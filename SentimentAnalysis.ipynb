{
 "cells": [
  {
   "cell_type": "code",
   "execution_count": 2,
   "id": "57387999",
   "metadata": {},
   "outputs": [],
   "source": [
    "import numpy as np\n",
    "from tensorflow.keras.datasets import imdb\n",
    "from tensorflow.keras.preprocessing.sequence import pad_sequences\n",
    "from tensorflow.keras.models import Sequential\n",
    "from tensorflow.keras.layers import Embedding, LSTM, Dense, Dropout\n",
    "from tensorflow.keras.callbacks import ModelCheckpoint\n",
    "from sklearn.metrics import accuracy_score, precision_score, recall_score, f1_score"
   ]
  },
  {
   "cell_type": "code",
   "execution_count": 2,
   "id": "62a5b04d",
   "metadata": {},
   "outputs": [],
   "source": [
    "np.random.seed(42)"
   ]
  },
  {
   "cell_type": "code",
   "execution_count": 3,
   "id": "05ff3b96",
   "metadata": {},
   "outputs": [
    {
     "name": "stdout",
     "output_type": "stream",
     "text": [
      "Downloading data from https://storage.googleapis.com/tensorflow/tf-keras-datasets/imdb.npz\n",
      "17464789/17464789 [==============================] - 18s 1us/step\n"
     ]
    }
   ],
   "source": [
    "(x_train, y_train), (x_test, y_test) = imdb.load_data(num_words=5000)"
   ]
  },
  {
   "cell_type": "code",
   "execution_count": 4,
   "id": "73e99719",
   "metadata": {},
   "outputs": [],
   "source": [
    "# Pad the sequences to a fixed length\n",
    "max_len = 500\n",
    "x_train = pad_sequences(x_train, maxlen=max_len)\n",
    "x_test = pad_sequences(x_test, maxlen=max_len)"
   ]
  },
  {
   "cell_type": "code",
   "execution_count": 5,
   "id": "df183389",
   "metadata": {},
   "outputs": [
    {
     "name": "stderr",
     "output_type": "stream",
     "text": [
      "2023-04-09 18:21:11.828335: I tensorflow/core/platform/cpu_feature_guard.cc:193] This TensorFlow binary is optimized with oneAPI Deep Neural Network Library (oneDNN) to use the following CPU instructions in performance-critical operations:  SSE4.1 SSE4.2 AVX AVX2 FMA\n",
      "To enable them in other operations, rebuild TensorFlow with the appropriate compiler flags.\n"
     ]
    }
   ],
   "source": [
    "model = Sequential()\n",
    "model.add(Embedding(input_dim=5000, output_dim=64, input_length=max_len))\n",
    "model.add(LSTM(64, dropout=0.2, recurrent_dropout=0.2))\n",
    "model.add(Dense(1, activation='sigmoid'))"
   ]
  },
  {
   "cell_type": "code",
   "execution_count": 6,
   "id": "d95f0cd1",
   "metadata": {},
   "outputs": [],
   "source": [
    "model.compile(loss='binary_crossentropy', optimizer='adam', metrics=['accuracy'])"
   ]
  },
  {
   "cell_type": "code",
   "execution_count": 7,
   "id": "b8678806",
   "metadata": {},
   "outputs": [
    {
     "name": "stdout",
     "output_type": "stream",
     "text": [
      "Epoch 1/10\n",
      "391/391 [==============================] - 322s 814ms/step - loss: 0.4403 - accuracy: 0.7858 - val_loss: 0.3287 - val_accuracy: 0.8626\n",
      "Epoch 2/10\n",
      "391/391 [==============================] - 344s 880ms/step - loss: 0.2873 - accuracy: 0.8868 - val_loss: 0.3132 - val_accuracy: 0.8770\n",
      "Epoch 3/10\n",
      "391/391 [==============================] - 321s 822ms/step - loss: 0.2488 - accuracy: 0.9019 - val_loss: 0.3691 - val_accuracy: 0.8648\n",
      "Epoch 4/10\n",
      "391/391 [==============================] - 312s 797ms/step - loss: 0.2073 - accuracy: 0.9200 - val_loss: 0.3332 - val_accuracy: 0.8733\n",
      "Epoch 5/10\n",
      "391/391 [==============================] - 339s 867ms/step - loss: 0.1760 - accuracy: 0.9313 - val_loss: 0.3386 - val_accuracy: 0.8640\n",
      "Epoch 6/10\n",
      "391/391 [==============================] - 330s 844ms/step - loss: 0.1686 - accuracy: 0.9360 - val_loss: 0.3820 - val_accuracy: 0.8702\n",
      "Epoch 7/10\n",
      "391/391 [==============================] - 328s 840ms/step - loss: 0.1521 - accuracy: 0.9415 - val_loss: 0.4053 - val_accuracy: 0.8683\n",
      "Epoch 8/10\n",
      "391/391 [==============================] - 324s 829ms/step - loss: 0.1220 - accuracy: 0.9556 - val_loss: 0.4324 - val_accuracy: 0.8700\n",
      "Epoch 9/10\n",
      "391/391 [==============================] - 331s 848ms/step - loss: 0.1430 - accuracy: 0.9448 - val_loss: 0.4789 - val_accuracy: 0.8588\n",
      "Epoch 10/10\n",
      "391/391 [==============================] - 321s 821ms/step - loss: 0.1296 - accuracy: 0.9518 - val_loss: 0.4416 - val_accuracy: 0.8356\n"
     ]
    },
    {
     "data": {
      "text/plain": [
       "<keras.callbacks.History at 0x7fda551e78b0>"
      ]
     },
     "execution_count": 7,
     "metadata": {},
     "output_type": "execute_result"
    }
   ],
   "source": [
    "model.fit(x_train, y_train, batch_size=64, epochs=10, validation_data=(x_test, y_test), callbacks=[ModelCheckpoint('model.h5', save_best_only=True)])"
   ]
  },
  {
   "cell_type": "code",
   "execution_count": 8,
   "id": "060da8b9",
   "metadata": {},
   "outputs": [
    {
     "name": "stdout",
     "output_type": "stream",
     "text": [
      "782/782 [==============================] - 64s 82ms/step\n",
      "Accuracy: 0.8356\n",
      "Precision: 0.8564146134239592\n",
      "Recall: 0.8064\n",
      "F1 Score: 0.830655129789864\n"
     ]
    }
   ],
   "source": [
    "y_pred = model.predict(x_test)\n",
    "y_pred = np.round(y_pred).flatten()\n",
    "print('Accuracy:', accuracy_score(y_test, y_pred))\n",
    "print('Precision:', precision_score(y_test, y_pred))\n",
    "print('Recall:', recall_score(y_test, y_pred))\n",
    "print('F1 Score:', f1_score(y_test, y_pred))"
   ]
  },
  {
   "cell_type": "markdown",
   "id": "5d8b9e20",
   "metadata": {},
   "source": [
    "# Use:"
   ]
  },
  {
   "cell_type": "code",
   "execution_count": 10,
   "id": "c88a0791",
   "metadata": {},
   "outputs": [],
   "source": [
    "# Load the trained model\n",
    "from tensorflow.keras.models import load_model\n",
    "model = load_model('model.h5')"
   ]
  },
  {
   "cell_type": "code",
   "execution_count": 11,
   "id": "75fbe590",
   "metadata": {},
   "outputs": [
    {
     "name": "stdout",
     "output_type": "stream",
     "text": [
      "Downloading data from https://storage.googleapis.com/tensorflow/tf-keras-datasets/imdb_word_index.json\n",
      "1641221/1641221 [==============================] - 1s 1us/step\n"
     ]
    }
   ],
   "source": [
    "# Define the word-to-index mapping\n",
    "word_to_index = imdb.get_word_index()"
   ]
  },
  {
   "cell_type": "code",
   "execution_count": 12,
   "id": "d6ee6636",
   "metadata": {},
   "outputs": [],
   "source": [
    "# Define a function to preprocess user inputs\n",
    "def preprocess_input(text):\n",
    "    # Convert the text to lowercase\n",
    "    text = text.lower()\n",
    "    # Split the text into words\n",
    "    words = text.split()\n",
    "    # Convert each word to its index in the word-to-index mapping\n",
    "    indexes = [word_to_index.get(word, 0) for word in words]\n",
    "    # Pad the sequence to the same length as the training data\n",
    "    padded_sequence = pad_sequences([indexes], maxlen=max_len)\n",
    "    return padded_sequence"
   ]
  },
  {
   "cell_type": "code",
   "execution_count": 47,
   "id": "ad73b5fb",
   "metadata": {},
   "outputs": [],
   "source": [
    "# Define a function to predict the sentiment of user inputs\n",
    "def predict_sentiment(text):\n",
    "    # Preprocess the input text\n",
    "    padded_sequence = preprocess_input(text)\n",
    "    # Use the model to predict the sentiment\n",
    "    proba = model.predict(padded_sequence)[0][0]\n",
    "    # Convert the probability to a binary sentiment classification\n",
    "    if proba >= 0.5:\n",
    "        sentiment = 'positive'\n",
    "    else:\n",
    "        sentiment = 'negative'\n",
    "    return sentiment"
   ]
  },
  {
   "cell_type": "code",
   "execution_count": 50,
   "id": "a4c8659f",
   "metadata": {},
   "outputs": [
    {
     "name": "stdout",
     "output_type": "stream",
     "text": [
      "1/1 [==============================] - 0s 71ms/step\n",
      "positive\n",
      "1/1 [==============================] - 0s 69ms/step\n",
      "positive\n"
     ]
    }
   ],
   "source": [
    "# Test the function on some example inputs\n",
    "print(predict_sentiment('great'))\n",
    "print(predict_sentiment('terrible!'))"
   ]
  },
  {
   "cell_type": "code",
   "execution_count": null,
   "id": "108b99eb",
   "metadata": {},
   "outputs": [],
   "source": []
  }
 ],
 "metadata": {
  "kernelspec": {
   "display_name": "Python 3 (ipykernel)",
   "language": "python",
   "name": "python3"
  },
  "language_info": {
   "codemirror_mode": {
    "name": "ipython",
    "version": 3
   },
   "file_extension": ".py",
   "mimetype": "text/x-python",
   "name": "python",
   "nbconvert_exporter": "python",
   "pygments_lexer": "ipython3",
   "version": "3.10.9"
  }
 },
 "nbformat": 4,
 "nbformat_minor": 5
}
